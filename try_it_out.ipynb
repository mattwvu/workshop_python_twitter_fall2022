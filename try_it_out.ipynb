{
 "cells": [
  {
   "cell_type": "markdown",
   "id": "8c195232-3079-44bd-97c4-114219b3e51f",
   "metadata": {},
   "source": [
    "<h4>API Documentation</h4>\n",
    "    <ul>\n",
    "        <li><a href=\"https://developer.twitter.com/en/docs/twitter-api\">Twitter API v2 Documentation</a></li>\n",
    "        <li><a href=\"https://developer.twitter.com/en/docs/api-reference-index\">Twitter API v2 Reference Index</a></li>\n",
    "        <li><a href =\"https://developer.twitter.com/en/docs/twitter-api/data-dictionary/object-model/tweet\">Tweet Objects</a></li>\n",
    "        <li><a href = \"https://developer.twitter.com/en/docs/twitter-api/data-dictionary/object-model/user\">User Objects</a></li>\n",
    "        <li><a href = \"https://docs.tweepy.org/en/stable/client.html\">Tweepy Documentation</a></li>\n",
    "    </ul>\n",
    "    "
   ]
  },
  {
   "cell_type": "markdown",
   "id": "1eafafa6-992b-4167-8d0f-11fd56f1bfea",
   "metadata": {},
   "source": [
    "<h4>Call Tweepy</h4>"
   ]
  },
  {
   "cell_type": "code",
   "execution_count": null,
   "id": "6c0b0b00-a617-4614-8397-0adc29b59a24",
   "metadata": {},
   "outputs": [],
   "source": [
    "import tweepy"
   ]
  },
  {
   "cell_type": "markdown",
   "id": "32f42ec5-f0e2-44ea-a1fa-f1c437313ff2",
   "metadata": {},
   "source": [
    "<h4>Authentication</h4>    "
   ]
  },
  {
   "cell_type": "code",
   "execution_count": null,
   "id": "4015576d-f5fa-44d8-b4a3-ebe1cf333ffe",
   "metadata": {},
   "outputs": [],
   "source": [
    "import keys #authentication file for storing you API keys and tokens"
   ]
  },
  {
   "cell_type": "code",
   "execution_count": null,
   "id": "bf74162d-66e7-48d1-a58d-ec3019ad2a9d",
   "metadata": {},
   "outputs": [],
   "source": [
    "client = tweepy.Client(bearer_token = keys.bearer_token, \n",
    "                       wait_on_rate_limit=True)"
   ]
  },
  {
   "cell_type": "markdown",
   "id": "d72af5d3-eb70-4443-8a8f-3b7d8c7d588f",
   "metadata": {},
   "source": [
    "<h4>Search Twitter</h4>\n",
    "<p>Here we are going to searching tweets made by accounts. We can do this by building a search query and using the function search_recent_tweets().</p>\n",
    "<ul><li><a href=\"https://developer.twitter.com/en/docs/twitter-api/tweets/search/integrate/build-a-query\">Learn more about building a search query</a></li>\n",
    "<li><a href=\"https://developer.twitter.com/en/docs/twitter-api/tweets/search/api-reference/get-tweets-search-recent\">Learn more about search_recent_tweets()</a></li></ul>"
   ]
  },
  {
   "cell_type": "code",
   "execution_count": null,
   "id": "fd1386be-42e2-46b5-941e-a7162a77e60a",
   "metadata": {},
   "outputs": [],
   "source": []
  },
  {
   "cell_type": "markdown",
   "id": "9fd543d9-9f82-4805-8c09-84f45f8912e9",
   "metadata": {},
   "source": [
    "<h4>View what you scrapped</h4>\n",
    "<p>We will now use some python code that will ask the program to go through the data we have reteived and allow us to view the information that was  was returned.</p>\n",
    "\n",
    "<p style = \"margin-left:4%;\"><strong>for loop</strong>: loop operator that is used for iterating over a sequence (that is either a list, a tuple, a dictionary, a set, or a string). This command will ask the computer to find and then perform another operation that we command on the information we have retrieved.</p>"
   ]
  },
  {
   "cell_type": "code",
   "execution_count": null,
   "id": "74bf5cbf-ab5e-4074-9741-2372e81601ea",
   "metadata": {},
   "outputs": [],
   "source": []
  },
  {
   "cell_type": "markdown",
   "id": "746bcb2c-7a95-4fa5-b0ca-7a65366e3441",
   "metadata": {},
   "source": [
    "<h4>Expansion</h4>\n",
    "<p>Expand your search to include addition tweet fields</p>\n",
    "<ul><li><a href =\"https://developer.twitter.com/en/docs/twitter-api/data-dictionary/object-model/tweet\">Tweet Objects</a></li></ul>"
   ]
  },
  {
   "cell_type": "code",
   "execution_count": null,
   "id": "50362047-61ef-46e8-9bc6-dca3e2c3a126",
   "metadata": {},
   "outputs": [],
   "source": []
  },
  {
   "cell_type": "markdown",
   "id": "5aa95320-7856-4631-9c45-71f645933000",
   "metadata": {},
   "source": [
    "<h4>Create a Dataframe</h4>\n",
    "<p>Converting Information to DataFrame and Exporting as CSV</p>"
   ]
  },
  {
   "cell_type": "code",
   "execution_count": null,
   "id": "39ef5d70-7843-4d02-9b51-69f28d28deb3",
   "metadata": {},
   "outputs": [],
   "source": [
    "#import pandas library to help create and export dataframes\n",
    "\n",
    "import pandas as pd"
   ]
  },
  {
   "cell_type": "code",
   "execution_count": null,
   "id": "8eec3456-e974-4d32-8941-5b90acfa776a",
   "metadata": {},
   "outputs": [],
   "source": [
    "#set the data dictionary\n",
    "data = []\n",
    "\n",
    "#add your column names seperated by a comma\n",
    "columns = []\n",
    "\n",
    "#add the data from our retieval to the data dictionary. \n",
    "for tweet in <your varaible>.data:\n",
    "    data.append([])\n",
    "    \n",
    "#create the dataframe\n",
    "<new varaiable> = pd.DataFrame(data, columns=columns)\n",
    "\n",
    "#export the data\n"
   ]
  },
  {
   "cell_type": "markdown",
   "id": "62a16d4e-5457-4c13-a03c-4a601006a99c",
   "metadata": {
    "tags": []
   },
   "source": [
    "<h4>Plotting Data</h4>"
   ]
  },
  {
   "cell_type": "code",
   "execution_count": null,
   "id": "a92e9a27-abe2-49c0-9d80-ca7a67b173ca",
   "metadata": {},
   "outputs": [],
   "source": [
    "import matplotlib.pyplot as plt\n",
    "import pandas as pd"
   ]
  },
  {
   "cell_type": "markdown",
   "id": "2091d263-87c6-41d2-86d0-8c845e14cc5d",
   "metadata": {
    "tags": []
   },
   "source": [
    "<h4>Clean the Date Posted field</h4>\n",
    "<p>Use the pd.datetime command to convert the date posted variable to a date variable.</p>\n",
    "<ul><li><a href =\"https://pandas.pydata.org/docs/reference/api/pandas.to_datetime.html\">Pandas to_datetime documentation</a></li><ul>"
   ]
  },
  {
   "cell_type": "code",
   "execution_count": null,
   "id": "84b02a78-aa0c-42ab-873a-2c5fed82c7b9",
   "metadata": {},
   "outputs": [],
   "source": []
  },
  {
   "cell_type": "markdown",
   "id": "68b24cfa-babf-4e5c-b51d-f3a71bd51eb2",
   "metadata": {},
   "source": [
    "<h4>Create a line plot of the likes</h4>\n",
    "<p>Use the MatPLotLib plot command to plot the variables</p>"
   ]
  },
  {
   "cell_type": "code",
   "execution_count": null,
   "id": "6911018c-6ee6-4a5d-9911-6d292d820fd0",
   "metadata": {},
   "outputs": [],
   "source": []
  }
 ],
 "metadata": {
  "kernelspec": {
   "display_name": "Python 3 (ipykernel)",
   "language": "python",
   "name": "python3"
  },
  "language_info": {
   "codemirror_mode": {
    "name": "ipython",
    "version": 3
   },
   "file_extension": ".py",
   "mimetype": "text/x-python",
   "name": "python",
   "nbconvert_exporter": "python",
   "pygments_lexer": "ipython3",
   "version": "3.9.12"
  }
 },
 "nbformat": 4,
 "nbformat_minor": 5
}
