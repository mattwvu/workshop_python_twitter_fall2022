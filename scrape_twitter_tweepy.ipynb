{
 "cells": [
  {
   "cell_type": "markdown",
   "id": "10573b7e-4fd7-4fce-ad23-c6eb896499a8",
   "metadata": {},
   "source": [
    "<h1>Scrapping Twitter API using Tweepy</h1>\n",
    "<h5>Created by Matt Steele, WVU</h5>\n",
    "<h5>Contact: <a href =\"https://directory.lib.wvu.edu/employee/210\" target=\"_blank\">https://directory.lib.wvu.edu/employee/210</a><h5>\n",
    "<hr />\n"
   ]
  },
  {
   "cell_type": "markdown",
   "id": "7974d6a7-6c16-4cae-8bdb-758c10c15098",
   "metadata": {},
   "source": [
    "<h2>Part I: Setting up your Twitter Developers Account</h2>\n",
    "<p>To access Twitter's API you will need to get a Developers Account from Twitter. The basic account has limits on time frames and rates of download.</p>\n",
    "    <ul>\n",
    "       <li><a href=\"https://developer.twitter.com/\">Create an Account</a></li>\n",
    "       <li><em>Note: If you have an academic project you want to pursue, you can register to recieve an Academic Research account which provides full access to the entire twitter archive.</em></li>\n",
    "            </ul>"
   ]
  },
  {
   "cell_type": "markdown",
   "id": "c919458e-9de9-4562-81ca-880b9ad7fb60",
   "metadata": {},
   "source": [
    "\n",
    "<h3>Configure your Developers Account</h3>\n",
    "<ol>\n",
    "    <li>Sign in with your developer account;</li>\n",
    "    <li>Create a project through the <a href =\"https://developer.twitter.com/en/portal/dashboard\">Developer Dashboard</a> and click on the <strong>Add App</strong> button;</li>\n",
    "    <li>Once your project is set up, save your <strong>Consumer Keys and Authentication Tokens</strong> to a notepad or word document;\n",
    "        <ul><li>Note: Make sure you properly document your Consumer Keys and Authentication Tokens</li></ul>\n",
    "            </li>\n",
    " \n",
    " <div style = \"margin-left: 5%; margin-top:2%; padding: 2%; border: 2px gray solid; width:50%;\">\n",
    "     <ul>\n",
    "         <li>consumer_key = 'YourConsumerKey'</li>\n",
    "         <li>consumer_secret = 'YourConsumerSecret'</li>\n",
    "         <li>access_token = 'YourAccessToken'</li>\n",
    "         <li>access_token_secret = 'YourAccessTokenSecret'</li>\n",
    "         <li>bearer_token = 'YourBearerToken'</li>\n",
    "     </ul>\n",
    "        </div>"
   ]
  },
  {
   "cell_type": "markdown",
   "id": "57a66836-6bb5-46e4-8eca-68a3b4eb7e51",
   "metadata": {},
   "source": [
    "<h3>Explore the API features</h3>\n",
    "<p>For this workshops we will focus on using Twitter API v2 features and Tweepy < 4.0 features</p>\n",
    "    <ul>\n",
    "        <li><a href=\"https://developer.twitter.com/en/docs/twitter-api\">Twitter API v2 Documentation</a></li>\n",
    "        <li><a href=\"https://developer.twitter.com/en/docs/api-reference-index\">Twitter API v2 Reference Index</a></li>\n",
    "        <li><a href =\"https://developer.twitter.com/en/docs/twitter-api/data-dictionary/object-model/tweet\">Tweet Objects</a></li>\n",
    "        <li><a href = \"https://developer.twitter.com/en/docs/twitter-api/data-dictionary/object-model/user\">User Objects</a></li>\n",
    "        <li><a href = \"https://docs.tweepy.org/en/stable/client.html\">Tweepy Documentation</a></li>\n",
    "    </ul>\n",
    "    "
   ]
  },
  {
   "cell_type": "markdown",
   "id": "e5f5fe93-2bc2-421a-a6f1-d0521dcdb922",
   "metadata": {},
   "source": [
    "<h2>Part II: Authentication</h2>\n",
    "<p>To access Twitter, you will need to authenticate your account using your API keys and tokens. We do this by adding our credentials to a python file (keys.py)</p>\n",
    " <div style = \"margin-left: 5%; margin-top:2%; padding: 2%; border: 2px gray solid; width:50%;\">\n",
    "    <p>Let's open the keys.py file and update it with our credentials, save it, and then import it.</p>\n",
    "    "
   ]
  },
  {
   "cell_type": "code",
   "execution_count": null,
   "id": "60744b61-bb6b-4bcc-bb0f-e891a8e15717",
   "metadata": {},
   "outputs": [],
   "source": [
    "import keys #authentication file for storing you API keys and tokens"
   ]
  },
  {
   "cell_type": "markdown",
   "id": "28866fde-05e3-44e3-8a77-d8f6594c6566",
   "metadata": {},
   "source": [
    "<h2>Part III: The Tweepy Library</h2>\n",
    "<p>The tweepy library allows you to interact with the Twitter API directly from Python and pull information in the form of JSON files.</p>\n",
    "    <ul>\n",
    "    <li><a href =\"https://docs.tweepy.org/en/stable/\">Tweepy documentation</a></li>\n",
    "        </ul>"
   ]
  },
  {
   "cell_type": "markdown",
   "id": "f39191f8-be92-4580-94f1-52802811269f",
   "metadata": {},
   "source": [
    "<h3>Install Tweepy</h3>"
   ]
  },
  {
   "cell_type": "code",
   "execution_count": null,
   "id": "b3e0b2c3-6864-4e33-9467-6785a8f5e575",
   "metadata": {},
   "outputs": [],
   "source": [
    "conda install -c conda-forge tweepy"
   ]
  },
  {
   "cell_type": "markdown",
   "id": "3d9faa5f-1091-4fa4-81c1-66f0d626bff3",
   "metadata": {
    "tags": []
   },
   "source": [
    "<h4>View installed libraries</h4>"
   ]
  },
  {
   "cell_type": "code",
   "execution_count": null,
   "id": "8047b178-9269-4435-a0b3-ec7da006845a",
   "metadata": {},
   "outputs": [],
   "source": [
    "conda list"
   ]
  },
  {
   "cell_type": "markdown",
   "id": "c3fe4d40-6ed3-4312-af9c-7e328e1a76af",
   "metadata": {},
   "source": [
    "<h3>Call Tweepy library</h3>"
   ]
  },
  {
   "cell_type": "code",
   "execution_count": null,
   "id": "fe5d07a5-4c92-4612-939a-5a1cf65cbafd",
   "metadata": {},
   "outputs": [],
   "source": [
    "import tweepy"
   ]
  },
  {
   "cell_type": "markdown",
   "id": "2a82c51f-f803-4036-b89f-2c5290d44d57",
   "metadata": {
    "tags": []
   },
   "source": [
    "<div style = \"background-color:#f0f0f0; margin-top: 5%; margin-bottom:5%; padding 2%;\"><h6><em>Hint: Use the TAB button to see available methods and functions</em></h6></div>"
   ]
  },
  {
   "cell_type": "markdown",
   "id": "7ceb8797-52f2-4c8a-b8b8-19631fdd5d1f",
   "metadata": {},
   "source": [
    "<h3>Authenicate your Account</h3>"
   ]
  },
  {
   "cell_type": "code",
   "execution_count": null,
   "id": "af5d91ea-727e-4073-8188-7a9367d0b30b",
   "metadata": {},
   "outputs": [],
   "source": [
    "client = tweepy.Client(bearer_token = keys.bearer_token, \n",
    "                       wait_on_rate_limit=True)"
   ]
  },
  {
   "cell_type": "markdown",
   "id": "6e8b138f-f525-419f-99cd-c575da839722",
   "metadata": {},
   "source": [
    "<h3>Make your First Call</h3>\n",
    "<p>Here we are going to searching tweets made by accounts. We can do this by building a search query and using the function search_recent_tweets()</a>.</p>\n",
    "<ul><li><a href=\"https://developer.twitter.com/en/docs/twitter-api/tweets/search/integrate/build-a-query\">Learn more about building a search query</a></li>\n",
    "<li><a href=\"https://developer.twitter.com/en/docs/twitter-api/tweets/search/api-reference/get-tweets-search-recent\">Learn more about search_recent_tweets()</a></li></ul>\n"
   ]
  },
  {
   "cell_type": "code",
   "execution_count": null,
   "id": "2faffb34-7a41-4b46-b1b3-d38bba96405c",
   "metadata": {},
   "outputs": [],
   "source": [
    "elon_search = client.search_recent_tweets(query=\"elon musk\", max_results=20)\n",
    "print(elon_search)"
   ]
  },
  {
   "cell_type": "markdown",
   "id": "c49f6a0a-550d-437c-90c8-632338fd9e48",
   "metadata": {},
   "source": [
    "<h4>What have we recieved</h4>\n",
    "<p>JSON files containing metadata information about the tweets that were sent out. If we want to see what metadata information is included in the JSON file, we will need to look at the data dictionary for tweets in the Twitter Developer documents section. There will also be times where we recieve information about user accounts, where we would need to look at the data dictionary for users in the Twitter Developer documents section.</p>\n",
    "\n",
    "<ul><li><a href =\"https://developer.twitter.com/en/docs/twitter-api/data-dictionary/object-model/tweet\">Tweet Objects</a></li>\n",
    "<li><a href = \"https://developer.twitter.com/en/docs/twitter-api/data-dictionary/object-model/user\">User Objects</a></li></ul>"
   ]
  },
  {
   "cell_type": "markdown",
   "id": "ca9be14c-e992-4f18-9906-3e3c16de4f21",
   "metadata": {},
   "source": [
    "<h4>How do we view this information</h4>\n",
    "<p>We will now use some python code that will ask the program to go through the data we have reteived and allow us to view the information that was  was returned.</p>\n",
    "\n",
    "<p style = \"margin-left:4%;\"><strong>for loop</strong>: loop operator that is used for iterating over a sequence (that is either a list, a tuple, a dictionary, a set, or a string). This command will ask the computer to find and then perform another operation that we command on the information we have retrieved.</p>"
   ]
  },
  {
   "cell_type": "code",
   "execution_count": null,
   "id": "996f1fb7-45c6-4e07-a65c-e6ae8c0e905f",
   "metadata": {},
   "outputs": [],
   "source": [
    "for tweet in elon_search.data:\n",
    "    display(tweet.id, tweet.text, tweet.edit_history_tweet_ids)"
   ]
  },
  {
   "cell_type": "markdown",
   "id": "edfe2098-0a46-4575-a1fe-a13eb7bcb5f8",
   "metadata": {},
   "source": [
    "<h3>Expansions</h3>\n",
    "<p>Expansions will allow you to expand the information included in the metadata beyond the default. For this example, for the tweet objects, I want to also retrieve the author of the tweet's id number (author_id).</p>\n",
    "\n",
    "<ul><li><a href =\"https://developer.twitter.com/en/docs/twitter-api/expansions\">Learn more about expansions</a></li></ul>"
   ]
  },
  {
   "cell_type": "code",
   "execution_count": null,
   "id": "8c06a7dd-fa00-4cec-af2b-9a9d2a6dc967",
   "metadata": {},
   "outputs": [],
   "source": [
    "elon_search = client.search_recent_tweets(query=\"elon musk -is:retweet\", \n",
    "                                            max_results=20, \n",
    "                                           expansions=[\"author_id\"])\n",
    "for tweet in elon_search.data:\n",
    "    display(tweet.id, tweet.text, tweet.author_id)"
   ]
  },
  {
   "cell_type": "markdown",
   "id": "40dab445-e183-4b7e-bf65-062e87674af5",
   "metadata": {},
   "source": [
    "<h4>Expand your Query further and add User Fields to your Retrieval</h4>\n",
    "<p>Right now we are just retieving information about the tweets. But we can also learn more about the users that are making the tweets. Your field options for user information retrieval can be found in the user objects data dictionary in the Twitter Developer documentation.</p>\n",
    "\n",
    "<ul><li><a href =\"https://developer.twitter.com/en/docs/twitter-api/data-dictionary/object-model/user\">Learn more about user objects</a></li></ul>"
   ]
  },
  {
   "cell_type": "code",
   "execution_count": null,
   "id": "48ded6f0-31dd-4120-9dc0-37facbddd1a5",
   "metadata": {},
   "outputs": [],
   "source": [
    "elon_search = client.search_recent_tweets(query=\"elon musk -is:retweet\", \n",
    "                                            max_results=50, \n",
    "                                           expansions=[\"author_id\"],\n",
    "                                           user_fields = [\"profile_image_url,description\"])"
   ]
  },
  {
   "cell_type": "markdown",
   "id": "ce8d64e6-9a90-478f-96b4-f51b8704b3c6",
   "metadata": {},
   "source": [
    "<h4>Create a dictionary that defines user information retrieval</h4>"
   ]
  },
  {
   "cell_type": "code",
   "execution_count": null,
   "id": "1571829a-f5d7-41b4-8e9e-31680089a04a",
   "metadata": {},
   "outputs": [],
   "source": [
    "elon_users = {user['id']: \n",
    "         user for user in elon_search.includes['users']}"
   ]
  },
  {
   "cell_type": "code",
   "execution_count": null,
   "id": "34d3a610-9407-486c-b02a-3fb9c2c415a0",
   "metadata": {},
   "outputs": [],
   "source": [
    "for tweet in elon_search.data:\n",
    "    if elon_users[tweet.author_id]:\n",
    "            user = elon_users[tweet.author_id]\n",
    "            print(tweet.id, user.username, user.profile_image_url, user.description)"
   ]
  },
  {
   "cell_type": "markdown",
   "id": "f13884c2-4ce4-4d1a-9c0d-f8343997cd0e",
   "metadata": {},
   "source": [
    "<h3>Converting Information to DataFrame and Exporting as CSV</h3>\n",
    "<p>The following operations will allow you to convert the JSON information that you have retrieved to a readable dataframe and then export that dataframe as CSV using Pandas.</p>"
   ]
  },
  {
   "cell_type": "code",
   "execution_count": 43,
   "id": "a0fd6541-53a1-4a6f-a0a3-a00bb8b55db6",
   "metadata": {},
   "outputs": [],
   "source": [
    "#import pandas library to help create and export dataframes\n",
    "\n",
    "import pandas as pd"
   ]
  },
  {
   "cell_type": "code",
   "execution_count": null,
   "id": "3d2663a5-a588-49c8-859a-e35d0bad6ed8",
   "metadata": {},
   "outputs": [],
   "source": [
    "elon_search = client.search_recent_tweets(query=\"elon musk -is:retweet\", \n",
    "                                            max_results=50, \n",
    "                                           expansions=[\"author_id\"],\n",
    "                                           tweet_fields=[\"created_at,public_metrics,in_reply_to_user_id\"],\n",
    "                                           user_fields = [\"profile_image_url,description\"])"
   ]
  },
  {
   "cell_type": "code",
   "execution_count": null,
   "id": "03a3496a-c8fe-479f-a6e0-19a6e059a0ab",
   "metadata": {},
   "outputs": [],
   "source": [
    "#set the data dictionary\n",
    "data = []\n",
    "\n",
    "#set the columns\n",
    "columns = ['ID', 'Tweet', \"Date Posted\",'Author', \"Liked\", 'Reply_To']\n",
    "\n",
    "#add the data from our retieval to the data dictionary\n",
    "for tweet in elon_search.data:\n",
    "    data.append([tweet.id, tweet.text, tweet.created_at, tweet.author_id, tweet.public_metrics['like_count'], tweet.in_reply_to_user_id])\n",
    "    \n",
    "#create the dataframe\n",
    "elon_df = pd.DataFrame(data, columns=columns )\n",
    "\n",
    "#export the data\n",
    "elon_df.to_csv(\"elon_tweets_1.csv\")"
   ]
  },
  {
   "cell_type": "markdown",
   "id": "5d750397-f82d-47f1-96de-46222d3f81db",
   "metadata": {},
   "source": [
    "<h4>Include User fields in our dataframe</h4>"
   ]
  },
  {
   "cell_type": "code",
   "execution_count": null,
   "id": "7b01c734-18f0-4404-90ae-1d2f9a8d74cd",
   "metadata": {},
   "outputs": [],
   "source": [
    "#set the data dictionary\n",
    "data = []\n",
    "\n",
    "#set the columns\n",
    "columns = ['ID', 'Tweet', \"Date Posted\",'Author', \"Author Bio\", \"Author Image\", \"Liked\", 'Reply_To']\n",
    "\n",
    "# create a ____ that will use the author_id field to look up more information about the users\n",
    "elon_users = {user['id']: \n",
    "         user for user in elon_search.includes['users']}\n",
    "\n",
    "#add the data from our retieval to the data dictionary\n",
    "for tweet in elon_search.data:\n",
    "    if elon_users[tweet.author_id]:\n",
    "            user = elon_users[tweet.author_id]\n",
    "            data.append([tweet.id, \n",
    "                         tweet.text, \n",
    "                         tweet.created_at, \n",
    "                         user.username, \n",
    "                         user.description, user.profile_image_url, tweet.public_metrics['like_count'], tweet.in_reply_to_user_id])\n",
    "\n",
    "#create the dataframe\n",
    "elon_df = pd.DataFrame(data, columns=columns)\n",
    "\n",
    "#export the data\n",
    "elon_df.to_csv(\"elon_tweets_2.csv\")"
   ]
  },
  {
   "cell_type": "markdown",
   "id": "b1cf0927-ac02-4734-b773-f7880705aec8",
   "metadata": {},
   "source": [
    "<h3>Get information about a user account</h3>\n",
    "<p>Let's look information about the twitter account <a href=\"https://twitter.com/elonmusk\">@elonmusk</a></p>\n",
    "<ul><li><a href=\"https://developer.twitter.com/en/docs/twitter-api/users/lookup/api-reference/get-users\">get_users() documentation</a></li></ul>"
   ]
  },
  {
   "cell_type": "code",
   "execution_count": null,
   "id": "1e61929e-4faa-412b-9ab4-984d57e8d155",
   "metadata": {},
   "outputs": [],
   "source": [
    "elon_id = client.get_users(usernames=[\"elonmusk\"])\n",
    "for user in elon_id:\n",
    "    display(user)"
   ]
  },
  {
   "cell_type": "markdown",
   "id": "a7bd2263-1c14-42b3-b4fd-2db31b89a4e3",
   "metadata": {},
   "source": [
    "<h4>Save the user_id as a variable</h4>"
   ]
  },
  {
   "cell_type": "code",
   "execution_count": null,
   "id": "742be863-d648-4987-98fb-d576c9253aa6",
   "metadata": {},
   "outputs": [],
   "source": [
    "user_id = \"44196397\""
   ]
  },
  {
   "cell_type": "markdown",
   "id": "c773936a-e59a-4745-bbe6-6be92d932bd8",
   "metadata": {},
   "source": [
    "<h3>Get User's Tweets</h3>\n",
    "\n",
    "This endpoint/method returns Tweets composed by a single user, specified by the requested user ID\n",
    "\n",
    "<ul><li><a href=\"https://developer.twitter.com/en/docs/twitter-api/tweets/timelines/api-reference/get-users-id-tweets\">get_user_tweets() documentation</a></li></ul>"
   ]
  },
  {
   "cell_type": "code",
   "execution_count": null,
   "id": "d5572795-0db6-4495-bbf1-8c3ae0be8845",
   "metadata": {},
   "outputs": [],
   "source": [
    "# By default, only the ID and text fields of each Tweet will be returned so we use user_fields to add creation data and public metrics information\n",
    "\n",
    "elon_tweets = client.get_users_tweets(user_id, exclude = [\"replies\", \"retweets\"], \n",
    "                                      max_results = 100,\n",
    "                                      tweet_fields=[\"created_at,public_metrics\"])"
   ]
  },
  {
   "cell_type": "code",
   "execution_count": null,
   "id": "6df89480-65b4-4c38-9681-bce597365805",
   "metadata": {},
   "outputs": [],
   "source": [
    "#set the data dictionary\n",
    "data = []\n",
    "\n",
    "#set the columns\n",
    "columns = ['Tweet ID', 'Text', \"Date Posted\", \"Replies\", \"Retweets\", \"Likes\", \"Quote Tweets\"]\n",
    "\n",
    "#add the data from our retieval to the data dictionary\n",
    "for tweet in elon_tweets.data:\n",
    "    data.append([tweet.id, \n",
    "                 tweet.text, \n",
    "                 tweet.created_at, \n",
    "                 tweet.public_metrics['reply_count'], \n",
    "                 tweet.public_metrics['retweet_count'], \n",
    "                 tweet.public_metrics['like_count'], \n",
    "                 tweet.public_metrics['quote_count']])\n",
    "    \n",
    "\n",
    "elon_tweets_df = pd.DataFrame(data, columns=columns )\n",
    "\n",
    "#export the data\n",
    "elon_tweets_df.to_csv(\"elon_acct_tweets.csv\")"
   ]
  },
  {
   "cell_type": "markdown",
   "id": "9ad171ad-15a1-48ec-b83a-27e2895c7245",
   "metadata": {
    "tags": []
   },
   "source": [
    "<h3>Plotting Data</h3>\n",
    "<p>Here we will use Matplotlib to the amount of times an Elon Musk tweet has been retweeted and liked.</p>"
   ]
  },
  {
   "cell_type": "code",
   "execution_count": null,
   "id": "acd4aa90-dd44-4b44-a61c-4bf32cd8a9c0",
   "metadata": {
    "tags": []
   },
   "outputs": [],
   "source": [
    "import matplotlib.pyplot as plt\n",
    "import pandas as pd"
   ]
  },
  {
   "cell_type": "code",
   "execution_count": null,
   "id": "359d3767-5fdb-44ba-bb72-48cc766828a9",
   "metadata": {},
   "outputs": [],
   "source": [
    "tl_em_df = pd.read_csv(\"elon_acct_tweets.csv\")\n",
    "tl_em_df.dtypes"
   ]
  },
  {
   "cell_type": "markdown",
   "id": "0e0cf705-c567-40ee-b398-8308268457e9",
   "metadata": {
    "tags": []
   },
   "source": [
    "<h4>Clean the Date Posted field</h4>\n",
    "<p>Use the pd.datetime command to convert the date posted variable to a date variable.</p>\n",
    "<ul><li><a href =\"https://pandas.pydata.org/docs/reference/api/pandas.to_datetime.html\">Pandas to_datetime documentation</a></li><ul>"
   ]
  },
  {
   "cell_type": "code",
   "execution_count": null,
   "id": "51615625-b825-4007-8d5a-65acf177d0ea",
   "metadata": {},
   "outputs": [],
   "source": [
    "tl_em_df[\"Date Posted\"]  = pd.to_datetime(tl_em_df[\"Date Posted\"])\n",
    "tl_em_df.dtypes"
   ]
  },
  {
   "cell_type": "markdown",
   "id": "dd905b7a-b3c1-4882-9b2f-95fdde17562b",
   "metadata": {},
   "source": [
    "<h4>Create a line plot of the tweets</h4>\n",
    "<p>Use the MatPLotLib plot command to plot the variables</p>"
   ]
  },
  {
   "cell_type": "code",
   "execution_count": null,
   "id": "5a8b54d8-2c0f-4b19-a2a3-fe0918119b14",
   "metadata": {},
   "outputs": [],
   "source": [
    "tl_em_df.plot(x=\"Date Posted\", y=[\"Retweets\"])"
   ]
  },
  {
   "cell_type": "markdown",
   "id": "16764505-cf42-46be-b564-c10dcb9d9825",
   "metadata": {},
   "source": [
    "<h3>Get User's Mentions</h3>\n",
    "\n",
    "This endpoint/method retrieves Tweets that mention a single user, specified by the requested user ID\n",
    "\n",
    "<ul><li><a href=\"https://developer.twitter.com/en/docs/twitter-api/tweets/timelines/api-reference/get-users-id-mentions\"> get_user_mentions() documentation</a></li></ul>"
   ]
  },
  {
   "cell_type": "code",
   "execution_count": null,
   "id": "75322378-c888-431f-a370-9657cc18a487",
   "metadata": {},
   "outputs": [],
   "source": [
    "elon_mentions = client.get_users_mentions(user_id, tweet_fields=[\"created_at\"])\n",
    "\n",
    "for tweets in elon_mentions.data:\n",
    "    dsiplay(tweet.id, tweet.text, tweet.created_at)"
   ]
  },
  {
   "cell_type": "markdown",
   "id": "7bb43e8f-86e2-4914-9dea-f6723fcb68d3",
   "metadata": {
    "tags": []
   },
   "source": [
    "<h3>Get User's Followers</h3>\n",
    "\n",
    "This endpoint/method returns a list of users who are followers of the specified user ID\n",
    "\n",
    "<ul><li><a href =\"https://developer.twitter.com/en/docs/twitter-api/users/follows/api-reference/get-users-id-followers\">get_users_followers() documentation</a></li></ul>"
   ]
  },
  {
   "cell_type": "code",
   "execution_count": null,
   "id": "74ef375a-eb67-4837-b3dd-8fa103d80094",
   "metadata": {},
   "outputs": [],
   "source": [
    "elon_followers = client.get_users_followers(user_id, user_fields=[\"profile_image_url,description\"])\n",
    "\n",
    "for user in elon_followers.data:\n",
    "    display(user.username, user.profile_image_url, user.description)"
   ]
  },
  {
   "cell_type": "markdown",
   "id": "4661b5ff-1a29-4325-a5fc-68e956cde184",
   "metadata": {},
   "source": [
    "<h3>Get Following</h3>\n",
    "\n",
    "This endpoint/method returns a list of users who are followers of the specified user ID\n",
    "\n",
    "<ul><li><a href = \"https://developer.twitter.com/en/docs/twitter-api/users/follows/api-reference/get-users-id-following\">get_users_following() documentation</a></li></ul>"
   ]
  },
  {
   "cell_type": "code",
   "execution_count": null,
   "id": "2ca48cc8-78fe-4096-8c1b-799bc24bf456",
   "metadata": {},
   "outputs": [],
   "source": [
    "elon_following = client.get_users_following(user_id, user_fields=[\"description\",\"profile_image_url\", \"location\"]\n",
    ")\n",
    "\n",
    "for user in elon_following.data:\n",
    "    display(user.name, user.username, user.description, user.profile_image_url, user.location)"
   ]
  },
  {
   "cell_type": "code",
   "execution_count": null,
   "id": "09848834-c13f-41c4-a52a-e81e56bc187f",
   "metadata": {},
   "outputs": [],
   "source": [
    "#set the data dictionary\n",
    "data = []\n",
    "\n",
    "#set the columns\n",
    "columns = ['Name', \"Username\", 'Bio', \"Image\", \"Location\"]\n",
    "\n",
    "#add the data from our retieval to the data dictionary\n",
    "for user in elon_following.data:\n",
    "    data.append([user.name, user.username, user.description, user.profile_image_url, user.location])\n",
    "    \n",
    "\n",
    "elon_following_df = pd.DataFrame(data, columns=columns )\n",
    "\n",
    "#export the data\n",
    "elon_following_df.to_csv(\"elon_follows.csv\")"
   ]
  },
  {
   "cell_type": "code",
   "execution_count": null,
   "id": "ab78d95a-af1a-4ec8-8058-e40b23aee80a",
   "metadata": {},
   "outputs": [],
   "source": [
    "loc = elon_following_df[\"Location\"].value_counts()\n",
    "loc.head(50)"
   ]
  },
  {
   "cell_type": "markdown",
   "id": "92349e90-6779-4ded-82d8-56707ab8ad14",
   "metadata": {},
   "source": [
    "<h3>Get information about a tweet</h3>\n",
    "<p>let's retrieve information about a tweet using the tweet id.</p>\n",
    "<ul><li><a href =\"https://twitter.com/dril/status/831805955402776576?lang=en\">Example tweet</a></li></ul>"
   ]
  },
  {
   "cell_type": "code",
   "execution_count": null,
   "id": "ec7b45b2-4105-450b-b3d8-75ce2529995e",
   "metadata": {},
   "outputs": [],
   "source": [
    "tweet_id = 831805955402776576"
   ]
  },
  {
   "cell_type": "markdown",
   "id": "e803ff43-5d7e-422a-87b9-bd90a571f35d",
   "metadata": {},
   "source": [
    "<h4>Users that liked a tweet</h4>\n",
    "<p>Find out user accounts that liked a tweet.</p>\n",
    "<ul><li><a href = \"https://developer.twitter.com/en/docs/twitter-api/tweets/likes/api-reference/get-tweets-id-liking_users\">get_liking_user() documentation</a></li></ul>"
   ]
  },
  {
   "cell_type": "code",
   "execution_count": null,
   "id": "f3d0ac80-da1f-4f4d-8557-dbd0a7ecccb2",
   "metadata": {},
   "outputs": [],
   "source": [
    "dril_likes = client.get_liking_users(id=tweet_id)\n",
    "\n",
    "for user in dril_likes.data:\n",
    "    print(user.username)"
   ]
  },
  {
   "cell_type": "markdown",
   "id": "396e2500-929c-4f25-b3f0-dc6a83ec6ae7",
   "metadata": {},
   "source": [
    "<h4>Users that retweeted a tweet</h4>\n",
    "<p>Find users that retweeted a tweet</p>\n",
    "<ul><li><a href=\"https://developer.twitter.com/en/docs/twitter-api/tweets/retweets/api-reference/get-tweets-id-retweeted_by\">get_retweeters() documentation</a></li></ul>"
   ]
  },
  {
   "cell_type": "code",
   "execution_count": null,
   "id": "94b547b1-b12b-4247-b666-08523a7cc34f",
   "metadata": {},
   "outputs": [],
   "source": [
    "dril_rts = client.get_retweeters(id=tweet_id)\n",
    "\n",
    "for user in dril_rts.data:\n",
    "    print(user.username)"
   ]
  },
  {
   "cell_type": "markdown",
   "id": "c12e41eb-681f-4bb4-a706-7bdc8e5e7680",
   "metadata": {},
   "source": [
    "<h2>Cleaning text for Sentiment Analysis<h4>"
   ]
  },
  {
   "cell_type": "code",
   "execution_count": null,
   "id": "289d8101-af8b-4e3c-bb74-f00ee39eb5f7",
   "metadata": {},
   "outputs": [],
   "source": [
    "elon_sentiment_df = pd.read_csv(\"elon_tweets_cleaned.csv\")\n",
    "elon_sentiment_df.head()"
   ]
  },
  {
   "cell_type": "code",
   "execution_count": null,
   "id": "0366bab6-8cb2-4581-8fd4-a127c2d61dbb",
   "metadata": {},
   "outputs": [],
   "source": [
    "from textblob import TextBlob\n",
    "import re\n",
    "\n",
    "def clean_tweet(tweet):\n",
    "    '''\n",
    "    Utility function to clean the text in a tweet by removing\n",
    "    links and special characters using regex.\n",
    "    '''\n",
    "    return ' '.join(re.sub(\"(@[A-Za-z0-9]+)|([^0-9A-Za-z \\t])|(\\w+:\\/\\/\\S+)\", \" \", tweet).split())\n",
    "\n",
    "def analize_sentiment(tweet):\n",
    "    '''\n",
    "    Utility function to classify the polarity of a tweet\n",
    "    using textblob.\n",
    "    '''\n",
    "    analysis = TextBlob(clean_tweet(tweet))\n",
    "    if analysis.sentiment.polarity > 0:\n",
    "        return 1\n",
    "    elif analysis.sentiment.polarity == 0:\n",
    "        return 0\n",
    "    else:\n",
    "        return -1"
   ]
  },
  {
   "cell_type": "code",
   "execution_count": null,
   "id": "904f7fbe-2cc3-42d6-ac2a-6114f48ed21a",
   "metadata": {},
   "outputs": [],
   "source": [
    "# We create a column with the result of the analysis:\n",
    "elon_sentiment_df['SA'] = np.array([ analize_sentiment(tweet) for tweet in elon_sentiment_df['Cleaned Text'] ])\n",
    "\n",
    "# We display the updated dataframe with the new column:\n",
    "display(elon_sentiment_df.head(10))"
   ]
  },
  {
   "cell_type": "code",
   "execution_count": null,
   "id": "63633e4e-7667-449d-ae97-1576cffc36f3",
   "metadata": {},
   "outputs": [],
   "source": [
    "pos_tweets = [ tweet for index, tweet in enumerate(elon_sentiment_df['Text']) if elon_sentiment_df['SA'][index] > 0]\n",
    "neu_tweets = [ tweet for index, tweet in enumerate(elon_sentiment_df['Text']) if elon_sentiment_df['SA'][index] == 0]\n",
    "neg_tweets = [ tweet for index, tweet in enumerate(elon_sentiment_df['Text']) if elon_sentiment_df['SA'][index] < 0]\n",
    "\n",
    "print(\"Percentage of positive tweets: {}%\".format(len(pos_tweets)*100/len(elon_sentiment_df['Text'])))\n",
    "print(\"Percentage of neutral tweets: {}%\".format(len(neu_tweets)*100/len(elon_sentiment_df['Text'])))\n",
    "print(\"Percentage de negative tweets: {}%\".format(len(neg_tweets)*100/len(elon_sentiment_df['Text'])))"
   ]
  }
 ],
 "metadata": {
  "kernelspec": {
   "display_name": "Python 3 (ipykernel)",
   "language": "python",
   "name": "python3"
  },
  "language_info": {
   "codemirror_mode": {
    "name": "ipython",
    "version": 3
   },
   "file_extension": ".py",
   "mimetype": "text/x-python",
   "name": "python",
   "nbconvert_exporter": "python",
   "pygments_lexer": "ipython3",
   "version": "3.9.12"
  }
 },
 "nbformat": 4,
 "nbformat_minor": 5
}
